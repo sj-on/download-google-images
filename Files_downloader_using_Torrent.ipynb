{
  "nbformat": 4,
  "nbformat_minor": 0,
  "metadata": {
    "colab": {
      "name": "Files downloader using Torrent.ipynb",
      "provenance": []
    },
    "kernelspec": {
      "name": "python3",
      "display_name": "Python 3"
    },
    "accelerator": "GPU"
  },
  "cells": [
    {
      "cell_type": "markdown",
      "metadata": {
        "id": "HIq5IciveMmg",
        "colab_type": "text"
      },
      "source": [
        "[Followed this video](https://www.youtube.com/watch?v=zaJIktPXVj8)"
      ]
    },
    {
      "cell_type": "code",
      "metadata": {
        "id": "lc2CdxSLd3q1",
        "colab_type": "code",
        "colab": {
          "base_uri": "https://localhost:8080/",
          "height": 120
        },
        "outputId": "c7b1ba9b-8883-434a-a7e1-cf84ede34b63"
      },
      "source": [
        "from google.colab import drive\n",
        "\n",
        "drive.mount(\"/content/drive\")"
      ],
      "execution_count": 1,
      "outputs": [
        {
          "output_type": "stream",
          "text": [
            "Go to this URL in a browser: https://accounts.google.com/o/oauth2/auth?client_id=947318989803-6bn6qk8qdgf4n4g3pfee6491hc0brc4i.apps.googleusercontent.com&redirect_uri=urn%3aietf%3awg%3aoauth%3a2.0%3aoob&response_type=code&scope=email%20https%3a%2f%2fwww.googleapis.com%2fauth%2fdocs.test%20https%3a%2f%2fwww.googleapis.com%2fauth%2fdrive%20https%3a%2f%2fwww.googleapis.com%2fauth%2fdrive.photos.readonly%20https%3a%2f%2fwww.googleapis.com%2fauth%2fpeopleapi.readonly\n",
            "\n",
            "Enter your authorization code:\n",
            "··········\n",
            "Mounted at /content/drive\n"
          ],
          "name": "stdout"
        }
      ]
    },
    {
      "cell_type": "code",
      "metadata": {
        "id": "x5ztdG8-ey-g",
        "colab_type": "code",
        "colab": {
          "base_uri": "https://localhost:8080/",
          "height": 33
        },
        "outputId": "e3d50684-bf87-4db9-f95c-f6f1d003b381"
      },
      "source": [
        "!ls"
      ],
      "execution_count": 2,
      "outputs": [
        {
          "output_type": "stream",
          "text": [
            "drive  sample_data\n"
          ],
          "name": "stdout"
        }
      ]
    },
    {
      "cell_type": "code",
      "metadata": {
        "id": "bdW_zkzKfBTN",
        "colab_type": "code",
        "colab": {
          "base_uri": "https://localhost:8080/",
          "height": 820
        },
        "outputId": "835eb5f7-1dd6-4b78-860d-1f867629452b"
      },
      "source": [
        "!apt install transmission-cli"
      ],
      "execution_count": 3,
      "outputs": [
        {
          "output_type": "stream",
          "text": [
            "Reading package lists... Done\n",
            "Building dependency tree       \n",
            "Reading state information... Done\n",
            "The following package was automatically installed and is no longer required:\n",
            "  libnvidia-common-440\n",
            "Use 'apt autoremove' to remove it.\n",
            "The following additional packages will be installed:\n",
            "  libevent-2.1-6 libminiupnpc10 libnatpmp1 transmission-common\n",
            "Suggested packages:\n",
            "  minissdpd natpmpc transmission-daemon transmission-gtk\n",
            "The following NEW packages will be installed:\n",
            "  libevent-2.1-6 libminiupnpc10 libnatpmp1 transmission-cli\n",
            "  transmission-common\n",
            "0 upgraded, 5 newly installed, 0 to remove and 35 not upgraded.\n",
            "Need to get 808 kB of archives.\n",
            "After this operation, 3,975 kB of additional disk space will be used.\n",
            "Get:1 http://archive.ubuntu.com/ubuntu bionic/main amd64 libevent-2.1-6 amd64 2.1.8-stable-4build1 [133 kB]\n",
            "Get:2 http://archive.ubuntu.com/ubuntu bionic/main amd64 libminiupnpc10 amd64 1.9.20140610-4ubuntu2 [24.1 kB]\n",
            "Get:3 http://archive.ubuntu.com/ubuntu bionic/main amd64 libnatpmp1 amd64 20150609-2 [7,612 B]\n",
            "Get:4 http://archive.ubuntu.com/ubuntu bionic/main amd64 transmission-common all 2.92-3ubuntu2 [237 kB]\n",
            "Get:5 http://archive.ubuntu.com/ubuntu bionic/universe amd64 transmission-cli amd64 2.92-3ubuntu2 [406 kB]\n",
            "Fetched 808 kB in 1s (612 kB/s)\n",
            "Selecting previously unselected package libevent-2.1-6:amd64.\n",
            "(Reading database ... 144465 files and directories currently installed.)\n",
            "Preparing to unpack .../libevent-2.1-6_2.1.8-stable-4build1_amd64.deb ...\n",
            "Unpacking libevent-2.1-6:amd64 (2.1.8-stable-4build1) ...\n",
            "Selecting previously unselected package libminiupnpc10:amd64.\n",
            "Preparing to unpack .../libminiupnpc10_1.9.20140610-4ubuntu2_amd64.deb ...\n",
            "Unpacking libminiupnpc10:amd64 (1.9.20140610-4ubuntu2) ...\n",
            "Selecting previously unselected package libnatpmp1.\n",
            "Preparing to unpack .../libnatpmp1_20150609-2_amd64.deb ...\n",
            "Unpacking libnatpmp1 (20150609-2) ...\n",
            "Selecting previously unselected package transmission-common.\n",
            "Preparing to unpack .../transmission-common_2.92-3ubuntu2_all.deb ...\n",
            "Unpacking transmission-common (2.92-3ubuntu2) ...\n",
            "Selecting previously unselected package transmission-cli.\n",
            "Preparing to unpack .../transmission-cli_2.92-3ubuntu2_amd64.deb ...\n",
            "Unpacking transmission-cli (2.92-3ubuntu2) ...\n",
            "Setting up libevent-2.1-6:amd64 (2.1.8-stable-4build1) ...\n",
            "Setting up libminiupnpc10:amd64 (1.9.20140610-4ubuntu2) ...\n",
            "Setting up libnatpmp1 (20150609-2) ...\n",
            "Setting up transmission-common (2.92-3ubuntu2) ...\n",
            "Setting up transmission-cli (2.92-3ubuntu2) ...\n",
            "Processing triggers for hicolor-icon-theme (0.17-2) ...\n",
            "Processing triggers for libc-bin (2.27-3ubuntu1) ...\n",
            "/sbin/ldconfig.real: /usr/local/lib/python3.6/dist-packages/ideep4py/lib/libmkldnn.so.0 is not a symbolic link\n",
            "\n",
            "Processing triggers for man-db (2.8.3-2ubuntu0.1) ...\n"
          ],
          "name": "stdout"
        }
      ]
    },
    {
      "cell_type": "code",
      "metadata": {
        "id": "3rm8qQHufMgP",
        "colab_type": "code",
        "colab": {
          "base_uri": "https://localhost:8080/",
          "height": 1000
        },
        "outputId": "b7fb7719-f5bf-491f-9e4c-94f0154e8069"
      },
      "source": [
        "!transmission-cli '/content/FreeTutorialsUS.com-Udemy-20-web-projects-with-vanilla-javascript.torrent'"
      ],
      "execution_count": 4,
      "outputs": [
        {
          "output_type": "stream",
          "text": [
            "transmission-cli 2.92 (14714)\n",
            "[2020-07-26 05:03:56.654] Transmission 2.92 (14714) started\n",
            "[2020-07-26 05:03:56.655] RPC Server: Adding address to whitelist: 127.0.0.1\n",
            "[2020-07-26 05:03:56.655] UDP: Failed to set receive buffer: requested 4194304, got 425984\n",
            "[2020-07-26 05:03:56.655] UDP: Please add the line \"net.core.rmem_max = 4194304\" to /etc/sysctl.conf\n",
            "[2020-07-26 05:03:56.655] UDP: Failed to set send buffer: requested 1048576, got 425984\n",
            "[2020-07-26 05:03:56.655] UDP: Please add the line \"net.core.wmem_max = 1048576\" to /etc/sysctl.conf\n",
            "[2020-07-26 05:03:56.655] DHT: Generating new id\n",
            "[2020-07-26 05:03:56.706] Saved \"/root/.config/transmission/torrents/GetFreeCourses.Me-Udemy-20-web-projects-with-vanilla-javascript.85971fff7e75b531.torrent\"\n",
            "[2020-07-26 05:03:56.706] GetFreeCourses.Me-Udemy-20-web-projects-with-vanilla-javascript: Queued for verification\n",
            "[2020-07-26 05:03:56.707] GetFreeCourses.Me-Udemy-20-web-projects-with-vanilla-javascript: Verifying torrent\n",
            "[2020-07-26 05:03:56.988] Port Forwarding (NAT-PMP): initnatpmp succeeded (0)\n",
            "[2020-07-26 05:03:56.988] Port Forwarding (NAT-PMP): sendpublicaddressrequest succeeded (2)\n",
            "Progress: 0.0%, dl from 0 of 0 peers (0 kB/s), ul to 0 (0 kB/s) [None]    [2020-07-26 05:04:04.994] Port Forwarding: State changed from \"Not forwarded\" to \"Starting\"\n",
            "[2020-07-26 05:04:05.354] GetFreeCourses.Me-Udemy-20-web-projects-with-vanilla-javascript: Could not connect to tracker\n",
            "[2020-07-26 05:04:05.354] GetFreeCourses.Me-Udemy-20-web-projects-with-vanilla-javascript: Retrying announce in 20 seconds.\n",
            "Progress: 0.0%, dl from 0 of 2 peers (0 kB/s)[2020-07-26 05:04:09.009] Changed open file limit from 1048576 to 1024\n",
            "Progress: 0.0%, dl from 0 of 8 peers (0 kB/s), ul to 0 (0 kB/s) [Non[2020-07-26 05:04:14.001] GetFreeCourses.Me-Udemy-20-web-projects-with-vanilla-javascript: Starting IPv4 DHT announce (poor, 9 nodes)\n",
            "Prog[2020-07-26 05:04:26.343] GetFreeCourses.Me-Udemy-20-web-projects-with-vanilla-javascript: Could not connect to tracker\n",
            "[2020-07-26 05:04:26.343] GetFreeCourses.Me-Udemy-20-web-projects-with-vanilla-javascript: Retrying announce in 331 seconds.\n",
            "Progress: 0.6%, dl from 7 of 10 peers (2.27 [2020-07-26 05:04:43.094] DHT: Attempting bootstrap from dht.transmissionbt.com\n",
            "Pro[2020-07-26 05:05:00.360] GetFreeCourses.Me-Udemy-20-web-projects-with-vanilla-javascript: Scrape error: Could not connect to tracker\n",
            "[2020-07-26 05:05:00.360] GetFreeCourses.Me-Udemy-20-web-projects-with-vanilla-javascript: Retrying scrape in 930 seconds.\n",
            "Progress: 1.8%, dl from 9 of 10 peers (2.97 MB/s), ul to 0 (0 kB/s) [0.00]    [2020-07-26 05:05:10.023] GetFreeCourses.Me-Udemy-20-web-projects-with-vanilla-javascript: Scrape error: Connection failed\n",
            "[2020-07-26 05:05:10.023] GetFreeCourses.Me-Udemy-20-web-projects-with-vanilla-javascript: Retrying scrape in 20 seconds.\n",
            "[2020-07-26 05:05:10.023] GetFreeCourses.Me-Udemy-20-web-projects-with-vanilla-javascript: Connection failed\n",
            "[2020-07-26 05:05:10.023] GetFreeCourses.Me-Udemy-20-web-projects-with-vanilla-javascript: Retrying announce in 345 seconds.\n",
            "[2020-07-26 05:05:10.023] GetFreeCourses.Me-Udemy-20-web-projects-with-vanilla-javascript: Connection failed\n",
            "[2020-07-26 05:05:10.023] GetFreeCourses.Me-Udemy-20-web-projects-with-vanilla-javascript: Retrying announce in 20 seconds.\n",
            "[2020-07-26 05:05:10.023] GetFreeCourses.Me-Udemy-20-web-projects-with-vanilla-javascript: Connection failed\n",
            "[2020-07-26 05:05:10.023] GetFreeCourses.Me-Udemy-20-web-projects-with-vanilla-javascript: Retrying announce in 20 seconds.\n",
            "Progres[2020-07-26 05:06:04.969] Port Forwarding: State changed from \"Starting\" to \"???\"\n",
            "P[2020-07-26 05:06:12.209] Couldn't connect socket 47 to 2a02:2f0e:5b0e:4100:6910:baff:27b4:bdaf, port 19319 (errno 99 - Cannot assign requested address)\n",
            "Progress: 7.0%, dl from 9 of 9 peers (3.3[2020-07-26 05:06:31.042] GetFreeCourses.Me-Udemy-20-web-projects-with-vanilla-javascript: Scrape error: Connection failed\n",
            "[2020-07-26 05:06:31.042] GetFreeCourses.Me-Udemy-20-web-projects-with-vanilla-javascript: Retrying scrape in 954 seconds.\n",
            "[2020-07-26 05:06:31.042] GetFreeCourses.Me-Udemy-20-web-projects-with-vanilla-javascript: Scrape error: Connection failed\n",
            "[2020-07-26 05:06:31.042] GetFreeCourses.Me-Udemy-20-web-projects-with-vanilla-javascript: Retrying scrape in 300 seconds.\n",
            "[2020-07-26 05:06:31.042] GetFreeCourses.Me-Udemy-20-web-projects-with-vanilla-javascript: Connection failed\n",
            "[2020-07-26 05:06:31.042] GetFreeCourses.Me-Udemy-20-web-projects-with-vanilla-javascript: Retrying announce in 955 seconds.\n",
            "[2020-07-26 05:06:31.042] GetFreeCourses.Me-Udemy-20-web-projects-with-vanilla-javascript: Scrape error: Connection failed\n",
            "[2020-07-26 05:06:31.042] GetFreeCourses.Me-Udemy-20-web-projects-with-vanilla-javascript: Retrying scrape in 331 seconds.\n",
            "[2020-07-26 05:06:31.042] GetFreeCourses.Me-Udemy-20-web-projects-with-vanilla-javascript: Connection failed\n",
            "[2020-07-26 05:06:31.042] GetFreeCourses.Me-Udemy-20-web-projects-with-vanilla-javascript: Retrying announce in 948 seconds.\n",
            "Progress: 13.7%, dl from 11 of 11 peers (1.58 MB/s), ul to 2 (76 kB/s) [[2020-07-26 05:08:42.038] GetFreeCourses.Me-Udemy-20-web-projects-with-vanilla-javascript: IPv4 DHT announce done\n",
            "Progress: 17[2020-07-26 05:09:56.446] GetFreeCourses.Me-Udemy-20-web-projects-with-vanilla-javascript: Could not connect to tracker\n",
            "[2020-07-26 05:09:56.446] GetFreeCourses.Me-Udemy-20-web-projects-with-vanilla-javascript: Retrying announce in 1850 seconds.\n",
            "[2020-07-26 05:09:56.657] Saved \"/root/.config/transmission/resume/GetFreeCourses.Me-Udemy-20-web-projects-with-vanilla-javascript.85971fff7e75b531.resume\"\n",
            "[2020-07-26 05:09:56.657] Saved \"/root/.config/transmission/stats.json\"\n",
            "Progress: 25.7%, dl from 9 of 10 peers (2.26 MB/s), ul to 1 (0 kB/s) [0.01]   [2020-07-26 05:12:00.125] GetFreeCourses.Me-Udemy-20-web-projects-with-vanilla-javascript: Connection failed\n",
            "[2020-07-26 05:12:00.125] GetFreeCourses.Me-Udemy-20-web-projects-with-vanilla-javascript: Retrying announce in 1853 seconds.\n",
            "Progress: 29.[2020-07-26 05:12:46.136] GetFreeCourses.Me-Udemy-20-web-projects-with-vanilla-javascript: Scrape error: Connection failed\n",
            "[2020-07-26 05:12:46.136] GetFreeCourses.Me-Udemy-20-web-projects-with-vanilla-javascript: Retrying scrape in 1857 seconds.\n",
            "Progress: 30.9%, dl from 9 of 10 peers (2.84 MB[2020-07-26 05:13:12.145] GetFreeCourses.Me-Udemy-20-web-projects-with-vanilla-javascript: Scrape error: Connection failed\n",
            "[2020-07-26 05:13:12.145] GetFreeCourses.Me-Udemy-20-web-projects-with-vanilla-javascript: Retrying scrape in 1824 seconds.\n",
            "Progress: 43.4%, dl from [2020-07-26 05:15:56.657] Saved \"/root/.config/transmission/resume/GetFreeCourses.Me-Udemy-20-web-projects-with-vanilla-javascript.85971fff7e75b531.resume\"\n",
            "[2020-07-26 05:15:56.657] Saved \"/root/.config/transmission/stats.json\"\n",
            "Progress: 54.1%, dl fro[2020-07-26 05:20:32.114] GetFreeCourses.Me-Udemy-20-web-projects-with-vanilla-javascript: Scrape error: Could not connect to tracker\n",
            "[2020-07-26 05:20:32.114] GetFreeCourses.Me-Udemy-20-web-projects-with-vanilla-javascript: Retrying scrape in 3650 seconds.\n",
            "Progress: 55.3%, dl from 8 of 10 peers [2020-07-26 05:21:21.171] Couldn't connect socket 47 to 2a02:2f0e:5b0e:4100:6910:baff:27b4:bdaf, port 19319 (errno 99 - Cannot assign requested address)\n",
            "[2020-07-26 05:21:21.171] Couldn't connect socket 47 to 2a02:2f0e:5b0e:4100:6910:baff:27b4:bdaf, port 19319 (errno 99 - Cannot assign requested address)\n",
            "Progress: 55.3%, dl from 7 of 9 peers [2020-07-26 05:21:56.658] Saved \"/root/.config/transmission/resume/GetFreeCourses.Me-Udemy-20-web-projects-with-vanilla-javascript.85971fff7e75b531.resume\"\n",
            "[2020-07-26 05:21:56.658] Saved \"/root/.config/transmission/stats.json\"\n",
            "Progress: 55.3%, dl from 6 of 9 peers (29 kB/s), ul t[2020-07-26 05:23:21.314] GetFreeCourses.Me-Udemy-20-web-projects-with-vanilla-javascript: Connection failed\n",
            "[2020-07-26 05:23:21.314] GetFreeCourses.Me-Udemy-20-web-projects-with-vanilla-javascript: Retrying announce in 3629 seconds.\n",
            "Progress: 55.3%, dl from 7 of 9 peers (33 kB/s), ul to 0 (0 kB/s) [0.0[2020-07-26 05:23:32.316] GetFreeCourses.Me-Udemy-20-web-projects-with-vanilla-javascript: Scrape error: Connection failed\n",
            "[2020-07-26 05:23:32.316] GetFreeCourses.Me-Udemy-20-web-projects-with-vanilla-javascript: Retrying scrape in 3600 seconds.\n",
            "[2020-07-26 05:23:32.316] GetFreeCourses.Me-Udemy-20-web-projects-with-vanilla-javascript: Connection failed\n",
            "[2020-07-26 05:23:32.316] GetFreeCourses.Me-Udemy-20-web-projects-with-vanilla-javascript: Retrying announce in 3637 seconds.\n",
            "Progress:[2020-07-26 05:25:23.896] GetFreeCourses.Me-Udemy-20-web-projects-with-vanilla-javascript: State changed from \"Incomplete\" to \"Complete\"\n",
            "[2020-07-26 05:25:24.365] GetFreeCourses.Me-Udemy-20-web-projects-with-vanilla-javascript: Could not connect to tracker\n",
            "[2020-07-26 05:25:24.365] GetFreeCourses.Me-Udemy-20-web-projects-with-vanilla-javascript: Retrying announce in 7242 seconds.\n",
            "Seeding, uploading to 0 of 1 peer(s), 0 kB/s [0.01]              [2020-07-26 05:26:30.047] GetFreeCourses.Me-Udemy-20-web-projects-with-vanilla-javascript: Connection failed\n",
            "[2020-07-26 05:26:30.047] GetFreeCourses.Me-Udemy-20-web-projects-with-vanilla-javascript: Retrying announce in 7253 seconds.\n",
            "[2020-07-26 05:26:30.047] GetFreeCourses.Me-Udemy-20-web-projects-with-vanilla-javascript: Connection failed\n",
            "[2020-07-26 05:26:30.047] GetFreeCourses.Me-Udemy-20-web-projects-with-vanilla-javascript: Retrying announce in 20 seconds.\n",
            "[2020-07-26 05:26:30.047] GetFreeCourses.Me-Udemy-20-web-projects-with-vanilla-javascript: Connection failed\n",
            "[2020-07-26 05:26:30.047] GetFreeCourses.Me-Udemy-20-web-projects-with-vanilla-javascript: Retrying announce in 7202 seconds.\n",
            "[2020-07-26 05:26:30.047] GetFreeCourses.Me-Udemy-20-web-projects-with-vanilla-javascript: Connection failed\n",
            "[2020-07-26 05:26:30.047] GetFreeCourses.Me-Udemy-20-web-projects-with-vanilla-javascript: Retrying announce in 7231 seconds.\n",
            "Seeding, uploading to 0 of 1 peer(s), 0 kB/s [0.01][2020-07-26 05:27:56.658] Saved \"/root/.config/transmission/resume/GetFreeCourses.Me-Udemy-20-web-projects-with-vanilla-javascript.85971fff7e75b531.resume\"\n",
            "[2020-07-26 05:27:56.658] Saved \"/root/.config/transmission/stats.json\"\n",
            "Seeding, uploading to 1 of 1 peer(s), 110 kB/s [0.01]                           \n",
            "Stopping torrent...\n",
            "[2020-07-26 05:30:27.111] Saved \"/root/.config/transmission/settings.json\"\n",
            "\n",
            "[2020-07-26 05:30:27.111] GetFreeCourses.Me-Udemy-20-web-projects-with-vanilla-javascript: Pausing\n",
            "[2020-07-26 05:30:27.114] Saved \"/root/.config/transmission/resume/GetFreeCourses.Me-Udemy-20-web-projects-with-vanilla-javascript.85971fff7e75b531.resume\"\n",
            "[2020-07-26 05:30:27.114] DHT: Saving 99 (99 + 0) nodes\n",
            "[2020-07-26 05:30:27.114] Saved \"/root/.config/transmission/dht.dat\"\n",
            "[2020-07-26 05:30:27.114] Port Forwarding: Stopped\n",
            "[2020-07-26 05:30:27.114] GetFreeCourses.Me-Udemy-20-web-projects-with-vanilla-javascript: Removing torrent\n",
            "[2020-07-26 05:30:27.114] GetFreeCourses.Me-Udemy-20-web-projects-with-vanilla-javascript: Pausing\n",
            "[2020-07-26 05:30:30.122] Saved \"/root/.config/transmission/stats.json\"\n"
          ],
          "name": "stdout"
        }
      ]
    },
    {
      "cell_type": "code",
      "metadata": {
        "id": "4n5WOZMAgYhH",
        "colab_type": "code",
        "colab": {}
      },
      "source": [
        "!mv '/root/Downloads/GetFreeCourses.Me-Udemy-20-web-projects-with-vanilla-javascript' '/content/drive/My Drive'"
      ],
      "execution_count": 5,
      "outputs": []
    },
    {
      "cell_type": "code",
      "metadata": {
        "id": "QmM25SYNmNAR",
        "colab_type": "code",
        "colab": {}
      },
      "source": [
        ""
      ],
      "execution_count": null,
      "outputs": []
    }
  ]
}